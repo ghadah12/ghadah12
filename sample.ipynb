{
  "metadata": {
    "kernelspec": {
      "name": "python",
      "display_name": "Python (Pyodide)",
      "language": "python"
    },
    "language_info": {
      "codemirror_mode": {
        "name": "python",
        "version": 3
      },
      "file_extension": ".py",
      "mimetype": "text/x-python",
      "name": "python",
      "nbconvert_exporter": "python",
      "pygments_lexer": "ipython3",
      "version": "3.8"
    }
  },
  "nbformat_minor": 4,
  "nbformat": 4,
  "cells": [
    {
      "cell_type": "code",
      "source": "import pandas as pd\n\n# Read the Excel file\ndf = pd.read_csv('Predict Hair Fall.csv')\n\n#print sapmle \nprint(df.head(5))\n",
      "metadata": {
        "trusted": true
      },
      "outputs": [
        {
          "name": "stdout",
          "text": "       Id Genetics Hormonal Changes Medical Conditions  \\\n0  133992      Yes               No            No Data   \n1  148393       No               No             Eczema   \n2  155074       No               No         Dermatosis   \n3  118261      Yes              Yes           Ringworm   \n4  111915       No               No          Psoriasis   \n\n  Medications & Treatments Nutritional Deficiencies     Stress  Age  \\\n0                  No Data      Magnesium deficiency  Moderate   19   \n1              Antibiotics      Magnesium deficiency      High   43   \n2         Antifungal Cream        Protein deficiency  Moderate   26   \n3              Antibiotics        Biotin Deficiency   Moderate   46   \n4                 Accutane           Iron deficiency  Moderate   30   \n\n  Poor Hair Care Habits  Environmental Factors Smoking Weight Loss   Hair Loss  \n0                    Yes                   Yes      No           No          0  \n1                    Yes                   Yes      No           No          0  \n2                    Yes                   Yes      No          Yes          0  \n3                    Yes                   Yes      No           No          0  \n4                     No                   Yes     Yes           No          1  \n",
          "output_type": "stream"
        }
      ],
      "execution_count": 3
    },
    {
      "cell_type": "code",
      "source": "",
      "metadata": {
        "trusted": true
      },
      "outputs": [],
      "execution_count": null
    }
  ]
}