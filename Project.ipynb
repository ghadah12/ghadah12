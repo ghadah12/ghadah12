{
  "metadata": {
    "kernelspec": {
      "name": "python",
      "display_name": "Python (Pyodide)",
      "language": "python"
    },
    "language_info": {
      "codemirror_mode": {
        "name": "python",
        "version": 3
      },
      "file_extension": ".py",
      "mimetype": "text/x-python",
      "name": "python",
      "nbconvert_exporter": "python",
      "pygments_lexer": "ipython3",
      "version": "3.8"
    }
  },
  "nbformat_minor": 4,
  "nbformat": 4,
  "cells": [
    {
      "cell_type": "code",
      "source": "import pandas as pd\nimport matplotlib.pyplot as plt\nfrom sklearn. feature_selection import VarianceThreshold \nfrom sklearn.preprocessing import MinMaxScaler\ndata= pd.read_csv('Predict Hair Fall.csv')\ndf=pd.DataFrame(data)",
      "metadata": {
        "trusted": true
      },
      "outputs": [],
      "execution_count": 42
    },
    {
      "cell_type": "code",
      "source": "column_to_discretize= 'Age'\nnum_bins=3\ndf['discretized_' + column_to_discretize] = pd.cut(df[column_to_discretize], bins=num_bins, labels=False)\nprint(\"Orignial DataFrame:\")\nprint(df[['Age', 'discretized_Age']])",
      "metadata": {
        "trusted": true
      },
      "outputs": [
        {
          "name": "stdout",
          "text": "Orignial DataFrame:\n     Age  discretized_Age\n0     19                0\n1     43                2\n2     26                0\n3     46                2\n4     30                1\n..   ...              ...\n994   33                1\n995   47                2\n996   20                0\n997   32                1\n998   34                1\n\n[999 rows x 2 columns]\n",
          "output_type": "stream"
        }
      ],
      "execution_count": 43
    },
    {
      "cell_type": "code",
      "source": "columns_to_normalize = ['Age']\ndata_to_normalize = df[columns_to_normalize]\nminmax_scaler = MinMaxScaler()\nnormalized_data_minmax = minmax_scaler.fit_transform(data_to_normalize)\ndf[columns_to_normalize] = normalized_data_minmax\nprint(\"Min-Max scaled data (only age column):\")\nprint(df)",
      "metadata": {
        "trusted": true
      },
      "outputs": [
        {
          "name": "stdout",
          "text": "Min-Max scaled data (only age column):\n         Id Genetics Hormonal Changes     Medical Conditions  \\\n0    133992      Yes               No                No Data   \n1    148393       No               No                 Eczema   \n2    155074       No               No             Dermatosis   \n3    118261      Yes              Yes               Ringworm   \n4    111915       No               No              Psoriasis   \n..      ...      ...              ...                    ...   \n994  184367      Yes               No  Seborrheic Dermatitis   \n995  164777      Yes              Yes                No Data   \n996  143273       No              Yes  Androgenetic Alopecia   \n997  169123       No              Yes             Dermatitis   \n998  127183      Yes              Yes              Psoriasis   \n\n      Medications & Treatments Nutritional Deficiencies     Stress      Age  \\\n0                      No Data      Magnesium deficiency  Moderate  0.03125   \n1                  Antibiotics      Magnesium deficiency      High  0.78125   \n2             Antifungal Cream        Protein deficiency  Moderate  0.25000   \n3                  Antibiotics        Biotin Deficiency   Moderate  0.87500   \n4                     Accutane           Iron deficiency  Moderate  0.37500   \n..                         ...                       ...       ...      ...   \n994                    Rogaine      Vitamin A Deficiency       Low  0.46875   \n995                   Accutane        Protein deficiency       Low  0.90625   \n996           Antidepressants         Protein deficiency  Moderate  0.06250   \n997           Immunomodulators        Biotin Deficiency   Moderate  0.43750   \n998  Blood Pressure Medication      Vitamin D Deficiency       Low  0.50000   \n\n    Poor Hair Care Habits  Environmental Factors Smoking Weight Loss   \\\n0                      Yes                   Yes      No           No   \n1                      Yes                   Yes      No           No   \n2                      Yes                   Yes      No          Yes   \n3                      Yes                   Yes      No           No   \n4                       No                   Yes     Yes           No   \n..                     ...                   ...     ...          ...   \n994                    Yes                   Yes     Yes          Yes   \n995                     No                    No      No          Yes   \n996                    Yes                    No     Yes          Yes   \n997                    Yes                   Yes     Yes          Yes   \n998                     No                   Yes      No           No   \n\n     Hair Loss  discretized_Age  \n0            0                0  \n1            0                2  \n2            0                0  \n3            0                2  \n4            1                1  \n..         ...              ...  \n994          1                1  \n995          0                2  \n996          1                0  \n997          1                1  \n998          1                1  \n\n[999 rows x 14 columns]\n",
          "output_type": "stream"
        }
      ],
      "execution_count": 44
    },
    {
      "cell_type": "code",
      "source": "",
      "metadata": {
        "trusted": true
      },
      "outputs": [],
      "execution_count": null
    },
    {
      "cell_type": "code",
      "source": "",
      "metadata": {
        "trusted": true
      },
      "outputs": [],
      "execution_count": null
    }
  ]
}