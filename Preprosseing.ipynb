{
  "metadata": {
    "kernelspec": {
      "name": "python",
      "display_name": "Python (Pyodide)",
      "language": "python"
    },
    "language_info": {
      "codemirror_mode": {
        "name": "python",
        "version": 3
      },
      "file_extension": ".py",
      "mimetype": "text/x-python",
      "name": "python",
      "nbconvert_exporter": "python",
      "pygments_lexer": "ipython3",
      "version": "3.8"
    }
  },
  "nbformat_minor": 4,
  "nbformat": 4,
  "cells": [
    {
      "cell_type": "code",
      "source": "import pandas as pd\nimport matplotlib.pyplot as plt\nimport numpy as np\nfrom sklearn.feature_selection import VarianceThreshold \nfrom sklearn.preprocessing import MinMaxScaler\nfrom sklearn.preprocessing import LabelEncoder\nfrom scipy import stats\nfrom scipy.stats import zscore\nfrom sklearn.feature_selection import SelectKBest\nfrom sklearn.feature_selection import f_classif\n\n\n\ndata= pd.read_csv('Predict Hair Fall.csv')\n\ndf=pd.DataFrame(data)\n",
      "metadata": {
        "trusted": true
      },
      "outputs": [],
      "execution_count": 227
    },
    {
      "cell_type": "code",
      "source": "df.replace(\"No Data\", np.nan, inplace=True)\n\nmissing = df.isna().sum()\nprint(missing.sum())\n\nData_cleand = df.dropna()\n\nprint(Data_cleand)\n",
      "metadata": {
        "trusted": true
      },
      "outputs": [
        {
          "name": "stdout",
          "text": "192\n         Id Genetics Hormonal Changes     Medical Conditions  \\\n1    148393       No               No                 Eczema   \n2    155074       No               No             Dermatosis   \n3    118261      Yes              Yes               Ringworm   \n4    111915       No               No              Psoriasis   \n5    139661      Yes               No              Psoriasis   \n..      ...      ...              ...                    ...   \n992  181854      Yes              Yes             Dermatosis   \n994  184367      Yes               No  Seborrheic Dermatitis   \n996  143273       No              Yes  Androgenetic Alopecia   \n997  169123       No              Yes             Dermatitis   \n998  127183      Yes              Yes              Psoriasis   \n\n      Medications & Treatments Nutritional Deficiencies     Stress  Age  \\\n1                  Antibiotics      Magnesium deficiency      High   43   \n2             Antifungal Cream        Protein deficiency  Moderate   26   \n3                  Antibiotics        Biotin Deficiency   Moderate   46   \n4                     Accutane           Iron deficiency  Moderate   30   \n5                  Antibiotics      Magnesium deficiency       Low   37   \n..                         ...                       ...       ...  ...   \n992                    Rogaine      Magnesium deficiency       Low   30   \n994                    Rogaine      Vitamin A Deficiency       Low   33   \n996           Antidepressants         Protein deficiency  Moderate   20   \n997           Immunomodulators        Biotin Deficiency   Moderate   32   \n998  Blood Pressure Medication      Vitamin D Deficiency       Low   34   \n\n    Poor Hair Care Habits  Environmental Factors Smoking Weight Loss   \\\n1                      Yes                   Yes      No           No   \n2                      Yes                   Yes      No          Yes   \n3                      Yes                   Yes      No           No   \n4                       No                   Yes     Yes           No   \n5                       No                   Yes      No          Yes   \n..                     ...                   ...     ...          ...   \n992                     No                    No      No           No   \n994                    Yes                   Yes     Yes          Yes   \n996                    Yes                    No     Yes          Yes   \n997                    Yes                   Yes     Yes          Yes   \n998                     No                   Yes      No           No   \n\n     Hair Loss  \n1            0  \n2            0  \n3            0  \n4            1  \n5            1  \n..         ...  \n992          1  \n994          1  \n996          1  \n997          1  \n998          1  \n\n[809 rows x 13 columns]\n",
          "output_type": "stream"
        }
      ],
      "execution_count": 228
    },
    {
      "cell_type": "code",
      "source": "le = LabelEncoder()\ndf['Genetics'] = le.fit_transform(df['Genetics'])\n\ndf['Hormonal Changes'] = le.fit_transform(df['Hormonal Changes'])\n\n#df['Poor Hair Care Habits'] = le.fit_transform(df['Poor Hair Care Habits'])\n#df['Weight Loss'] = le.fit_transform(df['Weight Loss'])\n\ndf['Environmental Factors'] = le.fit_transform(df['Environmental Factors'])\n\ndf['Smoking'] = le.fit_transform(df['Smoking'])\n\ndf['Medical Conditions'] = le.fit_transform(df['Medical Conditions'])\n\ndf['Medications & Treatments'] = le.fit_transform(df['Medications & Treatments'])\n\n#df[\"Nutritional Deficiencies\"] = le.fit_transform(df[\"Nutritional Deficiencies\"])\n\ndf['Stress'] = le.fit_transform(df['Stress'])\n\nprint(df)",
      "metadata": {
        "trusted": true
      },
      "outputs": [
        {
          "name": "stdout",
          "text": "         Id  Genetics  Hormonal Changes  Medical Conditions  \\\n0    133992         1                 0                  10   \n1    148393         0                 0                   4   \n2    155074         0                 0                   3   \n3    118261         1                 1                   6   \n4    111915         0                 0                   5   \n..      ...       ...               ...                 ...   \n994  184367         1                 0                   8   \n995  164777         1                 1                  10   \n996  143273         0                 1                   1   \n997  169123         0                 1                   2   \n998  127183         1                 1                   5   \n\n     Medications & Treatments Nutritional Deficiencies   Stress  Age  \\\n0                          10      Magnesium deficiency       2   19   \n1                           1      Magnesium deficiency       0   43   \n2                           3        Protein deficiency       2   26   \n3                           1        Biotin Deficiency        2   46   \n4                           0           Iron deficiency       2   30   \n..                        ...                       ...     ...  ...   \n994                         8      Vitamin A Deficiency       1   33   \n995                         0        Protein deficiency       1   47   \n996                         2        Protein deficiency       2   20   \n997                         7        Biotin Deficiency        2   32   \n998                         4      Vitamin D Deficiency       1   34   \n\n    Poor Hair Care Habits   Environmental Factors  Smoking Weight Loss   \\\n0                      Yes                      1        0           No   \n1                      Yes                      1        0           No   \n2                      Yes                      1        0          Yes   \n3                      Yes                      1        0           No   \n4                       No                      1        1           No   \n..                     ...                    ...      ...          ...   \n994                    Yes                      1        1          Yes   \n995                     No                      0        0          Yes   \n996                    Yes                      0        1          Yes   \n997                    Yes                      1        1          Yes   \n998                     No                      1        0           No   \n\n     Hair Loss  \n0            0  \n1            0  \n2            0  \n3            0  \n4            1  \n..         ...  \n994          1  \n995          0  \n996          1  \n997          1  \n998          1  \n\n[999 rows x 13 columns]\n",
          "output_type": "stream"
        }
      ],
      "execution_count": 229
    },
    {
      "cell_type": "code",
      "source": "# Detect and Remove outlier\nGenetics = df['Genetics']\n\nz_scores_Gen = zscore(Genetics)\n\nthreshold = 2\n\noutliers = df[abs(z_scores_Gen) > threshold]\n\n# Remove the row  \ndf_no_outlier = df.drop(outliers.index) \nprint(\"after remove Outliers from'Genetics' column:\")\ndisplay(df)",
      "metadata": {
        "trusted": true
      },
      "outputs": [
        {
          "name": "stdout",
          "text": "after remove Outliers from'Genetics' column:\n",
          "output_type": "stream"
        },
        {
          "output_type": "display_data",
          "data": {
            "text/plain": "         Id  Genetics  Hormonal Changes  Medical Conditions  \\\n0    133992         1                 0                  10   \n1    148393         0                 0                   4   \n2    155074         0                 0                   3   \n3    118261         1                 1                   6   \n4    111915         0                 0                   5   \n..      ...       ...               ...                 ...   \n994  184367         1                 0                   8   \n995  164777         1                 1                  10   \n996  143273         0                 1                   1   \n997  169123         0                 1                   2   \n998  127183         1                 1                   5   \n\n     Medications & Treatments Nutritional Deficiencies   Stress  Age  \\\n0                          10      Magnesium deficiency       2   19   \n1                           1      Magnesium deficiency       0   43   \n2                           3        Protein deficiency       2   26   \n3                           1        Biotin Deficiency        2   46   \n4                           0           Iron deficiency       2   30   \n..                        ...                       ...     ...  ...   \n994                         8      Vitamin A Deficiency       1   33   \n995                         0        Protein deficiency       1   47   \n996                         2        Protein deficiency       2   20   \n997                         7        Biotin Deficiency        2   32   \n998                         4      Vitamin D Deficiency       1   34   \n\n    Poor Hair Care Habits   Environmental Factors  Smoking Weight Loss   \\\n0                      Yes                      1        0           No   \n1                      Yes                      1        0           No   \n2                      Yes                      1        0          Yes   \n3                      Yes                      1        0           No   \n4                       No                      1        1           No   \n..                     ...                    ...      ...          ...   \n994                    Yes                      1        1          Yes   \n995                     No                      0        0          Yes   \n996                    Yes                      0        1          Yes   \n997                    Yes                      1        1          Yes   \n998                     No                      1        0           No   \n\n     Hair Loss  discretized_Age  \n0            0                0  \n1            0                2  \n2            0                0  \n3            0                2  \n4            1                1  \n..         ...              ...  \n994          1                1  \n995          0                2  \n996          1                0  \n997          1                1  \n998          1                1  \n\n[999 rows x 14 columns]",
            "text/html": "<div>\n<style scoped>\n    .dataframe tbody tr th:only-of-type {\n        vertical-align: middle;\n    }\n\n    .dataframe tbody tr th {\n        vertical-align: top;\n    }\n\n    .dataframe thead th {\n        text-align: right;\n    }\n</style>\n<table border=\"1\" class=\"dataframe\">\n  <thead>\n    <tr style=\"text-align: right;\">\n      <th></th>\n      <th>Id</th>\n      <th>Genetics</th>\n      <th>Hormonal Changes</th>\n      <th>Medical Conditions</th>\n      <th>Medications &amp; Treatments</th>\n      <th>Nutritional Deficiencies</th>\n      <th>Stress</th>\n      <th>Age</th>\n      <th>Poor Hair Care Habits</th>\n      <th>Environmental Factors</th>\n      <th>Smoking</th>\n      <th>Weight Loss</th>\n      <th>Hair Loss</th>\n      <th>discretized_Age</th>\n    </tr>\n  </thead>\n  <tbody>\n    <tr>\n      <th>0</th>\n      <td>133992</td>\n      <td>1</td>\n      <td>0</td>\n      <td>10</td>\n      <td>10</td>\n      <td>Magnesium deficiency</td>\n      <td>2</td>\n      <td>19</td>\n      <td>Yes</td>\n      <td>1</td>\n      <td>0</td>\n      <td>No</td>\n      <td>0</td>\n      <td>0</td>\n    </tr>\n    <tr>\n      <th>1</th>\n      <td>148393</td>\n      <td>0</td>\n      <td>0</td>\n      <td>4</td>\n      <td>1</td>\n      <td>Magnesium deficiency</td>\n      <td>0</td>\n      <td>43</td>\n      <td>Yes</td>\n      <td>1</td>\n      <td>0</td>\n      <td>No</td>\n      <td>0</td>\n      <td>2</td>\n    </tr>\n    <tr>\n      <th>2</th>\n      <td>155074</td>\n      <td>0</td>\n      <td>0</td>\n      <td>3</td>\n      <td>3</td>\n      <td>Protein deficiency</td>\n      <td>2</td>\n      <td>26</td>\n      <td>Yes</td>\n      <td>1</td>\n      <td>0</td>\n      <td>Yes</td>\n      <td>0</td>\n      <td>0</td>\n    </tr>\n    <tr>\n      <th>3</th>\n      <td>118261</td>\n      <td>1</td>\n      <td>1</td>\n      <td>6</td>\n      <td>1</td>\n      <td>Biotin Deficiency</td>\n      <td>2</td>\n      <td>46</td>\n      <td>Yes</td>\n      <td>1</td>\n      <td>0</td>\n      <td>No</td>\n      <td>0</td>\n      <td>2</td>\n    </tr>\n    <tr>\n      <th>4</th>\n      <td>111915</td>\n      <td>0</td>\n      <td>0</td>\n      <td>5</td>\n      <td>0</td>\n      <td>Iron deficiency</td>\n      <td>2</td>\n      <td>30</td>\n      <td>No</td>\n      <td>1</td>\n      <td>1</td>\n      <td>No</td>\n      <td>1</td>\n      <td>1</td>\n    </tr>\n    <tr>\n      <th>...</th>\n      <td>...</td>\n      <td>...</td>\n      <td>...</td>\n      <td>...</td>\n      <td>...</td>\n      <td>...</td>\n      <td>...</td>\n      <td>...</td>\n      <td>...</td>\n      <td>...</td>\n      <td>...</td>\n      <td>...</td>\n      <td>...</td>\n      <td>...</td>\n    </tr>\n    <tr>\n      <th>994</th>\n      <td>184367</td>\n      <td>1</td>\n      <td>0</td>\n      <td>8</td>\n      <td>8</td>\n      <td>Vitamin A Deficiency</td>\n      <td>1</td>\n      <td>33</td>\n      <td>Yes</td>\n      <td>1</td>\n      <td>1</td>\n      <td>Yes</td>\n      <td>1</td>\n      <td>1</td>\n    </tr>\n    <tr>\n      <th>995</th>\n      <td>164777</td>\n      <td>1</td>\n      <td>1</td>\n      <td>10</td>\n      <td>0</td>\n      <td>Protein deficiency</td>\n      <td>1</td>\n      <td>47</td>\n      <td>No</td>\n      <td>0</td>\n      <td>0</td>\n      <td>Yes</td>\n      <td>0</td>\n      <td>2</td>\n    </tr>\n    <tr>\n      <th>996</th>\n      <td>143273</td>\n      <td>0</td>\n      <td>1</td>\n      <td>1</td>\n      <td>2</td>\n      <td>Protein deficiency</td>\n      <td>2</td>\n      <td>20</td>\n      <td>Yes</td>\n      <td>0</td>\n      <td>1</td>\n      <td>Yes</td>\n      <td>1</td>\n      <td>0</td>\n    </tr>\n    <tr>\n      <th>997</th>\n      <td>169123</td>\n      <td>0</td>\n      <td>1</td>\n      <td>2</td>\n      <td>7</td>\n      <td>Biotin Deficiency</td>\n      <td>2</td>\n      <td>32</td>\n      <td>Yes</td>\n      <td>1</td>\n      <td>1</td>\n      <td>Yes</td>\n      <td>1</td>\n      <td>1</td>\n    </tr>\n    <tr>\n      <th>998</th>\n      <td>127183</td>\n      <td>1</td>\n      <td>1</td>\n      <td>5</td>\n      <td>4</td>\n      <td>Vitamin D Deficiency</td>\n      <td>1</td>\n      <td>34</td>\n      <td>No</td>\n      <td>1</td>\n      <td>0</td>\n      <td>No</td>\n      <td>1</td>\n      <td>1</td>\n    </tr>\n  </tbody>\n</table>\n<p>999 rows × 14 columns</p>\n</div>"
          },
          "metadata": {}
        }
      ],
      "execution_count": 222
    },
    {
      "cell_type": "code",
      "source": "column_to_discretize= 'Age'\nnum_bins=3\ndf['discretized_' + column_to_discretize] = pd.cut(df[column_to_discretize], bins=num_bins, labels=False)\nprint(\"Orignial DataFrame:\")\nprint(df[['Age', 'discretized_Age']])",
      "metadata": {
        "trusted": true,
        "scrolled": true
      },
      "outputs": [
        {
          "name": "stdout",
          "text": "Orignial DataFrame:\n     Age  discretized_Age\n0     19                0\n1     43                2\n2     26                0\n3     46                2\n4     30                1\n..   ...              ...\n994   33                1\n995   47                2\n996   20                0\n997   32                1\n998   34                1\n\n[999 rows x 2 columns]\n",
          "output_type": "stream"
        }
      ],
      "execution_count": 217
    },
    {
      "cell_type": "code",
      "source": "#Feature selection Method: Correlation-based Feature Selection \n\nX = pd.DataFrame(data.data, columns=data.feature_names)\ny = data['Genetics']\n\n# Use SelectKBest with f_classif as the scoring function\nselector = SelectKBest(score_func=f_classif, k=2)  # Select top 2 features\nX_new = selector.fit_transform(X, y)\n\n# Display the selected features\nselected_features = X.columns[selector.get_support()]\nprint(\"Selected Features:\", selected_features)",
      "metadata": {
        "trusted": true
      },
      "outputs": [
        {
          "ename": "<class 'AttributeError'>",
          "evalue": "'DataFrame' object has no attribute 'data'",
          "traceback": [
            "\u001b[0;31m---------------------------------------------------------------------------\u001b[0m",
            "\u001b[0;31mAttributeError\u001b[0m                            Traceback (most recent call last)",
            "\u001b[0;32m<ipython-input-226-b95836ac427f>\u001b[0m in \u001b[0;36m?\u001b[0;34m()\u001b[0m\n\u001b[1;32m      1\u001b[0m \u001b[0;31m#Feature selection Method: Correlation-based Feature Selection\u001b[0m\u001b[0;34m\u001b[0m\u001b[0;34m\u001b[0m\u001b[0m\n\u001b[1;32m      2\u001b[0m \u001b[0;34m\u001b[0m\u001b[0m\n\u001b[0;32m----> 3\u001b[0;31m \u001b[0mX\u001b[0m \u001b[0;34m=\u001b[0m \u001b[0mpd\u001b[0m\u001b[0;34m.\u001b[0m\u001b[0mDataFrame\u001b[0m\u001b[0;34m(\u001b[0m\u001b[0mdata\u001b[0m\u001b[0;34m.\u001b[0m\u001b[0mdata\u001b[0m\u001b[0;34m,\u001b[0m \u001b[0mcolumns\u001b[0m\u001b[0;34m=\u001b[0m\u001b[0mdata\u001b[0m\u001b[0;34m.\u001b[0m\u001b[0mfeature_names\u001b[0m\u001b[0;34m)\u001b[0m\u001b[0;34m\u001b[0m\u001b[0;34m\u001b[0m\u001b[0m\n\u001b[0m\u001b[1;32m      4\u001b[0m \u001b[0my\u001b[0m \u001b[0;34m=\u001b[0m \u001b[0mdata\u001b[0m\u001b[0;34m[\u001b[0m\u001b[0;34m'Genetics'\u001b[0m\u001b[0;34m]\u001b[0m\u001b[0;34m\u001b[0m\u001b[0;34m\u001b[0m\u001b[0m\n\u001b[1;32m      5\u001b[0m \u001b[0;34m\u001b[0m\u001b[0m\n\u001b[1;32m      6\u001b[0m \u001b[0;31m# Use SelectKBest with f_classif as the scoring function\u001b[0m\u001b[0;34m\u001b[0m\u001b[0;34m\u001b[0m\u001b[0m\n",
            "\u001b[0;32m/lib/python3.11/site-packages/pandas/core/generic.py\u001b[0m in \u001b[0;36m?\u001b[0;34m(self, name)\u001b[0m\n\u001b[1;32m   5898\u001b[0m             \u001b[0;32mand\u001b[0m \u001b[0mname\u001b[0m \u001b[0;32mnot\u001b[0m \u001b[0;32min\u001b[0m \u001b[0mself\u001b[0m\u001b[0;34m.\u001b[0m\u001b[0m_accessors\u001b[0m\u001b[0;34m\u001b[0m\u001b[0;34m\u001b[0m\u001b[0m\n\u001b[1;32m   5899\u001b[0m             \u001b[0;32mand\u001b[0m \u001b[0mself\u001b[0m\u001b[0;34m.\u001b[0m\u001b[0m_info_axis\u001b[0m\u001b[0;34m.\u001b[0m\u001b[0m_can_hold_identifiers_and_holds_name\u001b[0m\u001b[0;34m(\u001b[0m\u001b[0mname\u001b[0m\u001b[0;34m)\u001b[0m\u001b[0;34m\u001b[0m\u001b[0;34m\u001b[0m\u001b[0m\n\u001b[1;32m   5900\u001b[0m         ):\n\u001b[1;32m   5901\u001b[0m             \u001b[0;32mreturn\u001b[0m \u001b[0mself\u001b[0m\u001b[0;34m[\u001b[0m\u001b[0mname\u001b[0m\u001b[0;34m]\u001b[0m\u001b[0;34m\u001b[0m\u001b[0;34m\u001b[0m\u001b[0m\n\u001b[0;32m-> 5902\u001b[0;31m         \u001b[0;32mreturn\u001b[0m \u001b[0mobject\u001b[0m\u001b[0;34m.\u001b[0m\u001b[0m__getattribute__\u001b[0m\u001b[0;34m(\u001b[0m\u001b[0mself\u001b[0m\u001b[0;34m,\u001b[0m \u001b[0mname\u001b[0m\u001b[0;34m)\u001b[0m\u001b[0;34m\u001b[0m\u001b[0;34m\u001b[0m\u001b[0m\n\u001b[0m",
            "\u001b[0;31mAttributeError\u001b[0m: 'DataFrame' object has no attribute 'data'"
          ],
          "output_type": "error"
        }
      ],
      "execution_count": 226
    },
    {
      "cell_type": "code",
      "source": "columns_to_normalize = ['Age']\ndata_to_normalize = df[columns_to_normalize]\nminmax_scaler = MinMaxScaler()\nnormalized_data_minmax = minmax_scaler.fit_transform(data_to_normalize)\ndf[columns_to_normalize] = normalized_data_minmax\nprint(\"Min-Max scaled data (only age column):\")\nprint(df)",
      "metadata": {
        "trusted": true
      },
      "outputs": [
        {
          "name": "stdout",
          "text": "Min-Max scaled data (only age column):\n         Id  Genetics  Hormonal Changes  Medical Conditions  \\\n0    133992         1                 0                  10   \n1    148393         0                 0                   4   \n2    155074         0                 0                   3   \n3    118261         1                 1                   6   \n4    111915         0                 0                   5   \n..      ...       ...               ...                 ...   \n994  184367         1                 0                   8   \n995  164777         1                 1                  10   \n996  143273         0                 1                   1   \n997  169123         0                 1                   2   \n998  127183         1                 1                   5   \n\n     Medications & Treatments Nutritional Deficiencies   Stress      Age  \\\n0                          10      Magnesium deficiency       2  0.03125   \n1                           1      Magnesium deficiency       0  0.78125   \n2                           3        Protein deficiency       2  0.25000   \n3                           1        Biotin Deficiency        2  0.87500   \n4                           0           Iron deficiency       2  0.37500   \n..                        ...                       ...     ...      ...   \n994                         8      Vitamin A Deficiency       1  0.46875   \n995                         0        Protein deficiency       1  0.90625   \n996                         2        Protein deficiency       2  0.06250   \n997                         7        Biotin Deficiency        2  0.43750   \n998                         4      Vitamin D Deficiency       1  0.50000   \n\n    Poor Hair Care Habits   Environmental Factors  Smoking Weight Loss   \\\n0                      Yes                      1        0           No   \n1                      Yes                      1        0           No   \n2                      Yes                      1        0          Yes   \n3                      Yes                      1        0           No   \n4                       No                      1        1           No   \n..                     ...                    ...      ...          ...   \n994                    Yes                      1        1          Yes   \n995                     No                      0        0          Yes   \n996                    Yes                      0        1          Yes   \n997                    Yes                      1        1          Yes   \n998                     No                      1        0           No   \n\n     Hair Loss  discretized_Age  \n0            0                0  \n1            0                2  \n2            0                0  \n3            0                2  \n4            1                1  \n..         ...              ...  \n994          1                1  \n995          0                2  \n996          1                0  \n997          1                1  \n998          1                1  \n\n[999 rows x 14 columns]\n",
          "output_type": "stream"
        }
      ],
      "execution_count": 182
    },
    {
      "cell_type": "code",
      "source": "",
      "metadata": {
        "trusted": true,
        "jupyter": {
          "source_hidden": true
        }
      },
      "outputs": [],
      "execution_count": null
    }
  ]
}