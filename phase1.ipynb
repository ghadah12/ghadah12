{
  "metadata": {
    "kernelspec": {
      "name": "python",
      "display_name": "Python (Pyodide)",
      "language": "python"
    },
    "language_info": {
      "codemirror_mode": {
        "name": "python",
        "version": 3
      },
      "file_extension": ".py",
      "mimetype": "text/x-python",
      "name": "python",
      "nbconvert_exporter": "python",
      "pygments_lexer": "ipython3",
      "version": "3.8"
    }
  },
  "nbformat_minor": 4,
  "nbformat": 4,
  "cells": [
    {
      "cell_type": "markdown",
      "source": "# 1- Goal:\r\n\r\nOur project aims to use Python and data mining techniques on a hair loss prediction dataset. With attributes like ID, Genetics, Age, Hormonal Changes, Medical Conditions,Medications and Treatments ,Nutritional Deficiencies , Stress, Poor Hair Care Habits, Environmental Factors , and Hair Loss, we'll preprocess the data, apply different mining techniques, compare results, and share our findings on a GitHub repository with Jupyter notebooks. The focus is on creating effective models for hair loss prediction.\r\n",
      "metadata": {}
    },
    {
      "cell_type": "markdown",
      "source": "# 2- Dataset:\n\nThe dataset source is Kaggle : <https://www.kaggle.com/datasets/amitvkulkarni/hair-health>\n",
      "metadata": {}
    },
    {
      "cell_type": "markdown",
      "source": "# 3- General info about the dataset:\n\nThis dataset contains information about various factors that may contribute to baldness in individuals. Each row represents a unique individual, and the columns represent different factors related to genetics, hormonal changes, medical conditions, medications and treatments, nutritional deficiencies, stress levels, age, poor hair care habits, environmental factors, smoking habits, weight loss, and the presence or absence of baldness. \nWe had 11 attributes and 1000 objects.\n\n\n ##### Table 1: General Information about the attributes \n\r| Attributes name         | Description                                                                                                          | Data type |    \n|-------------------------|----------------------------------------------------------------------------------------------------------------------|-----------|\n| id                      | Unique id of the individual                                                                                          | Nominal   | \n| Genetics                | A class label Indicates whether the individual has a family history of baldness (Yes/No).                                  | Binary    | \n| age                     | Represents the age of the individual [years].                                                                        | Numeric (integer) | \n| Hormonal Changes        | Indicates whether the individual has experienced hormonal changes (Yes/No).                                          | Binary    | \n| Medical Conditions      | Lists specific medical conditions that may contribute to baldness, such as Alopecia Areata, Thyroid Problems, Scalp Infection, Psoriasis, Dermatitis, etc. [No data,Alopecia Areata,Others]                                     | Categorical    |                         \n| Medications & Treatments| Lists medications and treatments that may lead to hair loss, such as Chemotherapy, Heart Medication, Antidepressants, Steroids, etc. [Rogaine, Antidepressants, Others]                                                         | Categorical    | \n| Nutritional Deficiencies| Lists nutritional deficiencies that may contribute to hair loss, such as Iron deficiency,  Vitamin D deficiency, Biotin deficiency, Omega-3 fatty acid deficiency, etc. [Zinc Deficiency, Vitamin D Deficiency, Others]         | Categorical    | \n| Stress                  | Indicates the stress level of the individual (Low/Moderate/High).                                                    | Categorical    | \n| Poor Hair Care Habits   | Indicates whether the individual practices poor hair care habits (Yes/No).                                           | Binary    | \n| Environmental Factors   | Indicates whether the individual is exposed to environmental factors that may contribute to hair loss (Yes/No).      | Binary    | \n| Hair Loss               | indicating the presence (1) or absence (0) of baldness in the individual.                                            | Binary    | \n Binary    | ",
      "metadata": {}
    },
    {
      "cell_type": "code",
      "source": "",
      "metadata": {
        "trusted": true
      },
      "outputs": [],
      "execution_count": null
    },
    {
      "cell_type": "code",
      "source": "",
      "metadata": {
        "trusted": true
      },
      "outputs": [],
      "execution_count": null
    }
  ]
}